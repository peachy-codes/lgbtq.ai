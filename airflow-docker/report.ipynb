{
 "cells": [
  {
   "cell_type": "markdown",
   "id": "d04cd1f7",
   "metadata": {},
   "source": [
    "## Tasks\n",
    "\n",
    "- make jupyter notebook\n",
    "- start the report\n",
    "- move khushi to notebook\n",
    "- touch it up\n",
    "- flesh it out\n",
    "- create visualizations\n",
    "- make metrics functions\n",
    "- do a joblib loader\n"
   ]
  },
  {
   "cell_type": "markdown",
   "id": "360fcb0d",
   "metadata": {},
   "source": [
    "# MSDS633 Deep Learning\n",
    "### Khushi Bhat, Trevor Eaton, Georgia von Minden\n",
    "\n",
    "**Using A Transformer based Neural Net with Triplet Loss Function supported by k-Means clustering**"
   ]
  },
  {
   "cell_type": "markdown",
   "id": "3ace259a",
   "metadata": {},
   "source": [
    "# Introduction\n",
    "\n",
    "We are currently in a political landscape where all non-white groups of Americans are at risk. One such group which has recently come under attack by the Trump Administration is the transgender community.  As part of an ongoing endeavor to create a service that is able to accurately distinguish articles that have anti-trans language, one approach is to utilize a Large Language Model to classify text. However, there is the non-trivial hypothetical involving concerns about bias in the data baked into the LLM itself.  Presented with this issue, we decided to utilize a Transformer based NN that is supported by a specific loss function called the Triplet Loss function. Additionally, we incorporated a training system that focused on data near the decision boundary. This model was created with intention for its implementation to be the main backend process in LGBTQ.AI+, a “Perplexity-like” trans friendly AI-powered service that our team has developed, which aims to remove the unwanted bias of generic AI tools and provide users of specific communities with helpful, trustworthy results.\n",
    "\n",
    "Utilizing this techniques allows us to create a classifier that achieved PPPP accuracy. The final model choices that we arrived at in design were: using a pretrain tokenized from HF, a Triplet Loss function, a training loop that involved dynamic batch sizing, an ADAM optimizer, backpro, and intentionally staging triplets that were grouped close in differing k-means clusters\n"
   ]
  },
  {
   "cell_type": "markdown",
   "id": "dd06a2d2",
   "metadata": {},
   "source": [
    "    fix results, add data"
   ]
  },
  {
   "cell_type": "markdown",
   "id": "2ad8cbe8",
   "metadata": {},
   "source": [
    "# Data\n",
    "\n",
    "Our data consists of news articles that we collected from various news articles and publications. All articles were obtained either by utilizing API endpoints or by listening to RSS feeds and was obtained through legal channels. No automated bot based web scraping was performed. \n",
    "\n",
    "## Initial data Collection\n",
    "\n",
    "During the feasibility and testing stage of the project we collected the data by manually searching for trans-related articles across a diverse range of news platforms and identifying its metadata, including: date published, title, url, publication, author, stance (pro vs. anti-trans), topic category, and content. Data was staged as JSON objects to and stored in a MongoDB bucket.\n",
    "\n",
    "## Later Data Collection\n",
    "\n",
    "Later data collection involved the use of an Airflow DAG hosted on GCP. The DAG tasks were to collect the news events of the past 12 hours. These were then staged in a bucket after being predicted on and passed on for human review before being added to production data.\n",
    "\n",
    "## Data Difficulties\n",
    "\n",
    "An important aspect we wanted to adhere to during the project was obtaining data through proper channels. To do this, we used available web news APIs and RSS feeds. To keep costs down for the APIS we leveraged free trial keys for multiple sources. The RSS feeds proved to be a useful source, when they existed. RSS feeds are a dying breed and as such not every publication has RSS feeds Additionally, many news publications are hidden behind paywalls, which hindered our data collection by restricting the sources that we could use. Another challenge we faced was handling articles that used ambiguous language, making it difficult to identify that stance of that article. Since this was a manual process, this required reading the article a few times and using our own judgement to determine the author’s stance on trans rights. Later on these difficult to classify articles turned out to be a gift as they were leveraged in the HardTriplet code.\n",
    "\n",
    "## Data Information\n",
    "\n",
    "The unmodified structure of the collected data was a JSON object with the following attributes: date, title, url, publication, author, stance, and full text. Later on in the process, the title and text of the article were combined and embedded. Additionally, while the author was collected our model presently does not factor that in potential name collisions added unwanted variance to the bias signal.\n",
    "\n",
    "\n",
    "## Data Processing\n",
    "\n",
    "Data labeling is an ever-critical component of all machine learning. Due to the anchoring concept of the Triplet Loss function we relied heavily on accurate labeling for success. The method of triplet creation in order to identify corresponding positive and negative labels for a given anchor label is a centering component of the loss function used in our model. Data was stripped, cleaned of stopworks, and lemmatized. We considered the text as embeddings generated by a pretrained tokenizer from Hugging Face.\n"
   ]
  },
  {
   "cell_type": "markdown",
   "id": "47f05a87",
   "metadata": {},
   "source": [
    "# Model Architecture "
   ]
  },
  {
   "cell_type": "markdown",
   "id": "6be5f588",
   "metadata": {},
   "source": [
    "## Model Design\n",
    "\n",
    "Our model is based on the transformer architecture\n"
   ]
  },
  {
   "cell_type": "code",
   "execution_count": 11,
   "id": "295a8a44",
   "metadata": {},
   "outputs": [],
   "source": [
    "import torch\n",
    "import torch.nn as nn\n",
    "import torch.nn.functional as F\n",
    "from torch.utils.data import Dataset\n",
    "from transformers import AutoTokenizer, AutoModel\n",
    "import numpy as np\n",
    "from sklearn.neighbors import NearestNeighbors"
   ]
  },
  {
   "cell_type": "code",
   "execution_count": 12,
   "id": "d5e60aa6",
   "metadata": {},
   "outputs": [],
   "source": [
    "# sentence transformer model (used later for getting embeddings)\n",
    "\n",
    "HF_MODEL_CACHE = \"hf_model\"\n",
    "HF_MODEL_ID = \"sentence-transformers/all-MiniLM-L6-v2\""
   ]
  },
  {
   "cell_type": "code",
   "execution_count": 23,
   "id": "07d07662",
   "metadata": {},
   "outputs": [],
   "source": [
    "class TripletDataset(Dataset):\n",
    "    def __init__(self, triplets, tokenizer, max_length=512):\n",
    "        self.triplets = triplets\n",
    "        self.tokenizer = tokenizer\n",
    "        self.max_length = max_length\n",
    "\n",
    "    def __len__(self):\n",
    "        return len(self.triplets)\n",
    "\n",
    "    def __getitem__(self, idx):\n",
    "        anchor, positive, negative = self.triplets[idx]\n",
    "        return {\n",
    "            'anchor': self.tokenizer(anchor, truncation=True, padding='max_length', max_length=self.max_length, return_tensors='pt'),\n",
    "            'positive': self.tokenizer(positive, truncation=True, padding='max_length', max_length=self.max_length, return_tensors='pt'),\n",
    "            'negative': self.tokenizer(negative, truncation=True, padding='max_length', max_length=self.max_length, return_tensors='pt'),\n",
    "        }\n"
   ]
  },
  {
   "cell_type": "code",
   "execution_count": 24,
   "id": "bf61bb09",
   "metadata": {},
   "outputs": [],
   "source": [
    "class TripletNet(nn.Module):\n",
    "    def __init__(self):\n",
    "        super().__init__()\n",
    "        self.encoder = AutoModel.from_pretrained(HF_MODEL_ID, cache_dir=HF_MODEL_CACHE)\n",
    "\n",
    "    def forward(self, input_ids, attention_mask):\n",
    "        outputs = self.encoder(input_ids=input_ids, attention_mask=attention_mask)\n",
    "        return outputs.last_hidden_state[:, 0]  # CLS token\n",
    "\n",
    "    def embed(self, batch):\n",
    "        self.eval()\n",
    "        with torch.no_grad():\n",
    "            return self.forward(batch[\"input_ids\"].squeeze(1), batch[\"attention_mask\"].squeeze(1))\n",
    "        \n",
    "class TripletNetPatched(TripletNet):\n",
    "    def __init__(self, encoder):\n",
    "        # Skip the original __init__ that tries to AutoModel.load\n",
    "        nn.Module.__init__(self)\n",
    "        self.encoder = encoder\n"
   ]
  },
  {
   "cell_type": "code",
   "execution_count": 25,
   "id": "d5f8284c",
   "metadata": {},
   "outputs": [],
   "source": [
    "class TripletLoss(nn.Module):\n",
    "    def __init__(self, margin=0.5):\n",
    "        super().__init__()\n",
    "        self.margin = margin\n",
    "\n",
    "    def forward(self, anchor, positive, negative):\n",
    "        pos_dist = F.pairwise_distance(anchor, positive)\n",
    "        neg_dist = F.pairwise_distance(anchor, negative)\n",
    "        return F.relu(pos_dist - neg_dist + self.margin).mean()\n"
   ]
  },
  {
   "cell_type": "code",
   "execution_count": 26,
   "id": "b04c05bb",
   "metadata": {},
   "outputs": [],
   "source": [
    "def get_triplet_dataset(texts, labels, tokenizer):\n",
    "    from collections import defaultdict\n",
    "\n",
    "    label_to_texts = defaultdict(list)\n",
    "    for text, label in zip(texts, labels):\n",
    "        label_to_texts[label].append(text)\n",
    "\n",
    "    triplets = []\n",
    "    for label in label_to_texts:\n",
    "        positives = label_to_texts[label]\n",
    "        negatives = [t for l, ts in label_to_texts.items() if l != label for t in ts]\n",
    "        for anchor in positives:\n",
    "            if len(positives) < 2 or not negatives:\n",
    "                continue\n",
    "            positive = np.random.choice([t for t in positives if t != anchor])\n",
    "            negative = np.random.choice(negatives)\n",
    "            triplets.append((anchor, positive, negative))\n",
    "\n",
    "    return TripletDataset(triplets, tokenizer)\n",
    "\n",
    "def encode_texts(model, tokenizer, texts, batch_size=16, device='cpu'):\n",
    "    \"\"\"\n",
    "    Encode a list of texts into embeddings using the TripletNet.\n",
    "    \"\"\"\n",
    "    model.eval()\n",
    "    model.to(device)\n",
    "    embeddings = []\n",
    "\n",
    "    for i in range(0, len(texts), batch_size):\n",
    "        batch_texts = texts[i:i + batch_size]\n",
    "        encoded = tokenizer(batch_texts, padding=True, truncation=True, return_tensors=\"pt\", max_length=512)\n",
    "        encoded = {k: v.to(device) for k, v in encoded.items()}\n",
    "        with torch.no_grad():\n",
    "            reps = model(encoded[\"input_ids\"], encoded[\"attention_mask\"])\n",
    "        embeddings.append(reps.cpu().numpy())\n",
    "\n",
    "    return np.vstack(embeddings)\n"
   ]
  },
  {
   "cell_type": "code",
   "execution_count": 27,
   "id": "e13092ff",
   "metadata": {},
   "outputs": [],
   "source": [
    "class BatchMiner:\n",
    "    def __init__(self, embeddings, labels, n_neighbors=20):\n",
    "        self.embeddings = embeddings\n",
    "        self.labels = labels\n",
    "        self.n_neighbors = n_neighbors\n",
    "\n",
    "        self.nn = NearestNeighbors(n_neighbors=n_neighbors, metric='cosine')\n",
    "        self.nn.fit(embeddings)\n",
    "\n",
    "    def get_hard_triplets(self):\n",
    "        triplets = []\n",
    "        for idx, emb in enumerate(self.embeddings):\n",
    "            label = self.labels[idx]\n",
    "            distances, indices = self.nn.kneighbors([emb])\n",
    "            indices = indices.flatten()\n",
    "\n",
    "            pos_idx = None\n",
    "            neg_idx = None\n",
    "\n",
    "            for i in indices[::-1]:  # farthest positive\n",
    "                if i != idx and self.labels[i] == label:\n",
    "                    pos_idx = i\n",
    "                    break\n",
    "            for i in indices:  # nearest negative\n",
    "                if self.labels[i] != label:\n",
    "                    neg_idx = i\n",
    "                    break\n",
    "\n",
    "            if pos_idx is not None and neg_idx is not None:\n",
    "                triplets.append((idx, pos_idx, neg_idx))\n",
    "        \n",
    "        return triplets\n"
   ]
  },
  {
   "cell_type": "markdown",
   "id": "a1c5a285",
   "metadata": {},
   "source": [
    "## Model Training"
   ]
  },
  {
   "cell_type": "code",
   "execution_count": 30,
   "id": "70cdc971",
   "metadata": {},
   "outputs": [],
   "source": [
    "import os\n",
    "import torch\n",
    "import joblib\n",
    "import numpy as np\n",
    "import pandas as pd\n",
    "from tqdm import tqdm\n",
    "from torch.utils.data import DataLoader\n",
    "from transformers import AutoTokenizer, AutoModel\n",
    "\n",
    "# Config\n",
    "MODEL_DIR = \"models\"\n",
    "HF_MODEL_ID = \"sentence-transformers/all-MiniLM-L6-v2\"\n",
    "HF_MODEL_CACHE = \"hf_model\"\n",
    "device = torch.device(\"cuda\" if torch.cuda.is_available() else \"cpu\")\n",
    "\n",
    "# Load tokenizer + encoder\n",
    "tokenizer = AutoTokenizer.from_pretrained(HF_MODEL_ID, cache_dir=HF_MODEL_CACHE)\n",
    "from sentence_transformers import SentenceTransformer\n",
    "encoder = SentenceTransformer(HF_MODEL_ID, cache_folder=HF_MODEL_CACHE)\n",
    "\n",
    "# Load and prepare data\n",
    "df = pd.read_csv(\"data/all_data_snapshot.csv\")\n",
    "df = df[df[\"stance\"].str.strip().str.lower().isin([\"pro\", \"anti\"])]\n",
    "texts = df[\"content\"].astype(str).tolist()\n",
    "labels = df[\"stance\"].str.strip().str.lower().tolist()\n",
    "\n",
    "# Prepare triplet dataset\n",
    "triplet_dataset = get_triplet_dataset(texts, labels, tokenizer)\n",
    "dataloader = DataLoader(triplet_dataset, batch_size=4, shuffle=False)\n",
    "\n",
    "# Evaluation\n",
    "loss_fn = TripletLoss()\n",
    "loss_records = []\n"
   ]
  },
  {
   "cell_type": "markdown",
   "id": "822279d6",
   "metadata": {},
   "source": [
    "get loss records for all joblibs"
   ]
  },
  {
   "cell_type": "code",
   "execution_count": 32,
   "id": "e5216654",
   "metadata": {},
   "outputs": [],
   "source": [
    "for fname in sorted(os.listdir(MODEL_DIR)):\n",
    "    if not fname.startswith(\"checkpoint_model_\") or not fname.endswith(\".joblib\"):\n",
    "        continue\n",
    "\n",
    "    path = os.path.join(MODEL_DIR, fname)\n",
    "    try:\n",
    "        model = TripletNet().to(device)  # This calls AutoModel.from_pretrained() as expected\n",
    "        model.load_state_dict(joblib.load(path))\n",
    "        model.eval()\n",
    "\n",
    "        total_loss = 0\n",
    "        count = 0\n",
    "\n",
    "        for batch in dataloader:\n",
    "            anchor = model(\n",
    "                batch[\"anchor\"][\"input_ids\"].squeeze(1).to(device),\n",
    "                batch[\"anchor\"][\"attention_mask\"].squeeze(1).to(device)\n",
    "            )\n",
    "            positive = model(\n",
    "                batch[\"positive\"][\"input_ids\"].squeeze(1).to(device),\n",
    "                batch[\"positive\"][\"attention_mask\"].squeeze(1).to(device)\n",
    "            )\n",
    "            negative = model(\n",
    "                batch[\"negative\"][\"input_ids\"].squeeze(1).to(device),\n",
    "                batch[\"negative\"][\"attention_mask\"].squeeze(1).to(device)\n",
    "            )\n",
    "\n",
    "            loss = loss_fn(anchor, positive, negative).item()\n",
    "            total_loss += loss\n",
    "            count += 1\n",
    "            break  # just evaluate one batch for speed (or remove this line for full eval)\n",
    "\n",
    "        avg_loss = total_loss / count if count > 0 else None\n",
    "\n",
    "        # Extract timestamp + epoch\n",
    "        parts = fname.split(\"_\")\n",
    "        timestamp = parts[2]\n",
    "        epoch = int(parts[-1].replace(\"epoch\", \"\").replace(\".joblib\", \"\"))\n",
    "        loss_records.append({\n",
    "            \"timestamp\": timestamp,\n",
    "            \"epoch\": epoch,\n",
    "            \"loss\": avg_loss,\n",
    "            \"model_file\": fname\n",
    "        })\n",
    "\n",
    "    except Exception as e:\n",
    "        print(f\"⚠️ Error evaluating {fname}: {e}\")"
   ]
  },
  {
   "cell_type": "code",
   "execution_count": 117,
   "id": "9367eace",
   "metadata": {},
   "outputs": [
    {
     "data": {
      "text/plain": [
       "[{'timestamp': '20250507035443',\n",
       "  'epoch': 1,\n",
       "  'loss': 0.48301246762275696,\n",
       "  'model_file': 'checkpoint_model_20250507035443_epoch1.joblib'},\n",
       " {'timestamp': '20250507054548',\n",
       "  'epoch': 1,\n",
       "  'loss': 0.4784280061721802,\n",
       "  'model_file': 'checkpoint_model_20250507054548_epoch1.joblib'},\n",
       " {'timestamp': '20250507054548',\n",
       "  'epoch': 2,\n",
       "  'loss': 0.48750734329223633,\n",
       "  'model_file': 'checkpoint_model_20250507054548_epoch2.joblib'},\n",
       " {'timestamp': '20250507095037',\n",
       "  'epoch': 1,\n",
       "  'loss': 0.47378426790237427,\n",
       "  'model_file': 'checkpoint_model_20250507095037_epoch1.joblib'},\n",
       " {'timestamp': '20250507101952',\n",
       "  'epoch': 1,\n",
       "  'loss': 0.42381635308265686,\n",
       "  'model_file': 'checkpoint_model_20250507101952_epoch1.joblib'},\n",
       " {'timestamp': '20250508050425',\n",
       "  'epoch': 1,\n",
       "  'loss': 0.4999297559261322,\n",
       "  'model_file': 'checkpoint_model_20250508050425_epoch1.joblib'},\n",
       " {'timestamp': '20250508093354',\n",
       "  'epoch': 1,\n",
       "  'loss': 0.42014607787132263,\n",
       "  'model_file': 'checkpoint_model_20250508093354_epoch1.joblib'},\n",
       " {'timestamp': '20250511074519',\n",
       "  'epoch': 1,\n",
       "  'loss': 0.44378378987312317,\n",
       "  'model_file': 'checkpoint_model_20250511074519_epoch1.joblib'},\n",
       " {'timestamp': '20250511074519',\n",
       "  'epoch': 2,\n",
       "  'loss': 0.4934520125389099,\n",
       "  'model_file': 'checkpoint_model_20250511074519_epoch2.joblib'},\n",
       " {'timestamp': '20250511074519',\n",
       "  'epoch': 3,\n",
       "  'loss': 0.494719922542572,\n",
       "  'model_file': 'checkpoint_model_20250511074519_epoch3.joblib'},\n",
       " {'timestamp': '20250511092238',\n",
       "  'epoch': 1,\n",
       "  'loss': 0.36007416248321533,\n",
       "  'model_file': 'checkpoint_model_20250511092238_epoch1.joblib'},\n",
       " {'timestamp': '20250511092238',\n",
       "  'epoch': 2,\n",
       "  'loss': 0.46052980422973633,\n",
       "  'model_file': 'checkpoint_model_20250511092238_epoch2.joblib'},\n",
       " {'timestamp': '20250511092238',\n",
       "  'epoch': 3,\n",
       "  'loss': 0.49254170060157776,\n",
       "  'model_file': 'checkpoint_model_20250511092238_epoch3.joblib'},\n",
       " {'timestamp': '20250511104328',\n",
       "  'epoch': 1,\n",
       "  'loss': 0.46425357460975647,\n",
       "  'model_file': 'checkpoint_model_20250511104328_epoch1.joblib'},\n",
       " {'timestamp': '20250511104328',\n",
       "  'epoch': 2,\n",
       "  'loss': 0.42353206872940063,\n",
       "  'model_file': 'checkpoint_model_20250511104328_epoch2.joblib'},\n",
       " {'timestamp': '20250511104328',\n",
       "  'epoch': 3,\n",
       "  'loss': 0.4967558681964874,\n",
       "  'model_file': 'checkpoint_model_20250511104328_epoch3.joblib'},\n",
       " {'timestamp': '20250511112533',\n",
       "  'epoch': 1,\n",
       "  'loss': 0.48138168454170227,\n",
       "  'model_file': 'checkpoint_model_20250511112533_epoch1.joblib'},\n",
       " {'timestamp': '20250511112533',\n",
       "  'epoch': 2,\n",
       "  'loss': 0.49526217579841614,\n",
       "  'model_file': 'checkpoint_model_20250511112533_epoch2.joblib'},\n",
       " {'timestamp': '20250511112533',\n",
       "  'epoch': 3,\n",
       "  'loss': 0.4978654980659485,\n",
       "  'model_file': 'checkpoint_model_20250511112533_epoch3.joblib'},\n",
       " {'timestamp': '20250511133104',\n",
       "  'epoch': 1,\n",
       "  'loss': 0.32761865854263306,\n",
       "  'model_file': 'checkpoint_model_20250511133104_epoch1.joblib'},\n",
       " {'timestamp': '20250511133104',\n",
       "  'epoch': 2,\n",
       "  'loss': 0.44193023443222046,\n",
       "  'model_file': 'checkpoint_model_20250511133104_epoch2.joblib'},\n",
       " {'timestamp': '20250511133104',\n",
       "  'epoch': 3,\n",
       "  'loss': 0.3991352915763855,\n",
       "  'model_file': 'checkpoint_model_20250511133104_epoch3.joblib'}]"
      ]
     },
     "execution_count": 117,
     "metadata": {},
     "output_type": "execute_result"
    }
   ],
   "source": [
    "loss_records"
   ]
  },
  {
   "cell_type": "markdown",
   "id": "7a71c2a7",
   "metadata": {},
   "source": [
    "simple plots showing best loss"
   ]
  },
  {
   "cell_type": "code",
   "execution_count": 41,
   "id": "c927b2f2",
   "metadata": {},
   "outputs": [],
   "source": [
    "import pandas as pd\n",
    "import seaborn as sns\n",
    "import matplotlib.pyplot as plt\n",
    "\n",
    "# Assume loss_records is already populated\n",
    "df_loss = pd.DataFrame(loss_records)\n",
    "\n",
    "# Map timestamps to model IDs (chronologically sorted)\n",
    "timestamp_order = sorted(df_loss[\"timestamp\"].unique())\n",
    "timestamp_to_model_id = {ts: i + 1 for i, ts in enumerate(timestamp_order)}\n",
    "df_loss[\"model_id\"] = df_loss[\"timestamp\"].map(timestamp_to_model_id)"
   ]
  },
  {
   "cell_type": "code",
   "execution_count": 106,
   "id": "3812b38e",
   "metadata": {},
   "outputs": [],
   "source": [
    "trans_palette = [\n",
    "    \"#5BCEFA\",  # Trans blue\n",
    "    \"#FFFFFF\",  # White\n",
    "    \"#F5A9B8\",  # Trans pink\n",
    "]"
   ]
  },
  {
   "cell_type": "code",
   "execution_count": 58,
   "id": "e438de94",
   "metadata": {},
   "outputs": [
    {
     "data": {
      "image/png": "[encoded data removed]",
      "text/plain": [
       "<Figure size 1200x600 with 1 Axes>"
      ]
     },
     "metadata": {},
     "output_type": "display_data"
    }
   ],
   "source": [
    "plt.figure(figsize=(12, 6))\n",
    "sns.lineplot(data=df_loss, x=\"epoch\", y=\"loss\", hue=\"model_id\", marker=\"o\", palette=trans_palette)\n",
    "plt.title(\"Triplet Loss over Epochs (by Model ID)\")\n",
    "plt.xlabel(\"Epoch\")\n",
    "plt.ylabel(\"Loss\")\n",
    "plt.legend(title=\"Model ID\", loc=\"best\")\n",
    "plt.tight_layout()\n",
    "plt.show()"
   ]
  },
  {
   "cell_type": "code",
   "execution_count": 113,
   "id": "a3f019ce",
   "metadata": {},
   "outputs": [
    {
     "name": "stderr",
     "output_type": "stream",
     "text": [
      "/var/folders/pf/k196hws969g1q7_pkdnv68ww0000gn/T/ipykernel_720/3779569306.py:13: FutureWarning: \n",
      "\n",
      "Passing `palette` without assigning `hue` is deprecated and will be removed in v0.14.0. Assign the `x` variable to `hue` and set `legend=False` for the same effect.\n",
      "\n",
      "  ax = sns.barplot(\n",
      "/var/folders/pf/k196hws969g1q7_pkdnv68ww0000gn/T/ipykernel_720/3779569306.py:13: UserWarning: \n",
      "The palette list has fewer values (3) than needed (11) and will cycle, which may produce an uninterpretable plot.\n",
      "  ax = sns.barplot(\n"
     ]
    },
    {
     "data": {
      "image/png": "[encoded data removed]",
      "text/plain": [
       "<Figure size 1000x500 with 1 Axes>"
      ]
     },
     "metadata": {},
     "output_type": "display_data"
    }
   ],
   "source": [
    "# Group and sort by best loss in descending order\n",
    "best_loss_per_model = (\n",
    "    df_loss.groupby(\"model_id\")[\"loss\"]\n",
    "    .min()\n",
    "    .reset_index()\n",
    "    .sort_values(by=\"loss\", ascending=False)\n",
    ")\n",
    "\n",
    "# Extract the order of model_ids for plotting\n",
    "model_order = best_loss_per_model[\"model_id\"]\n",
    "\n",
    "plt.figure(figsize=(10, 5))\n",
    "ax = sns.barplot(\n",
    "    data=best_loss_per_model,\n",
    "    x=\"model_id\",\n",
    "    y=\"loss\",\n",
    "    palette=trans_palette,\n",
    "    order=model_order,\n",
    "    width=0.5,\n",
    "    edgecolor=\"black\",\n",
    "    linewidth=0.8\n",
    ")\n",
    "ax.set_facecolor(\"#f9f9f9\")  # 🧼 Off-white background for bar area only\n",
    "\n",
    "plt.title(\"Best Loss per Model (Sorted Descending by Loss)\")\n",
    "plt.xlabel(\"Model Version\")\n",
    "plt.ylabel(\"Best Loss\")\n",
    "plt.xticks(rotation=0)\n",
    "sns.despine()\n",
    "plt.tight_layout()\n",
    "plt.show()"
   ]
  },
  {
   "cell_type": "code",
   "execution_count": 112,
   "id": "f9afff2e",
   "metadata": {},
   "outputs": [
    {
     "name": "stderr",
     "output_type": "stream",
     "text": [
      "/var/folders/pf/k196hws969g1q7_pkdnv68ww0000gn/T/ipykernel_720/776901975.py:13: FutureWarning: \n",
      "\n",
      "Passing `palette` without assigning `hue` is deprecated and will be removed in v0.14.0. Assign the `x` variable to `hue` and set `legend=False` for the same effect.\n",
      "\n",
      "  ax = sns.barplot(\n",
      "/var/folders/pf/k196hws969g1q7_pkdnv68ww0000gn/T/ipykernel_720/776901975.py:13: UserWarning: \n",
      "The palette list has fewer values (3) than needed (11) and will cycle, which may produce an uninterpretable plot.\n",
      "  ax = sns.barplot(\n"
     ]
    },
    {
     "data": {
      "image/png": "[encoded data removed]",
      "text/plain": [
       "<Figure size 1000x500 with 1 Axes>"
      ]
     },
     "metadata": {},
     "output_type": "display_data"
    }
   ],
   "source": [
    "# Group by model_id and get the best loss (no sorting)\n",
    "best_loss_per_model_chrono = (\n",
    "    df_loss.groupby(\"model_id\")[\"loss\"]\n",
    "    .min()\n",
    "    .reset_index()\n",
    ")\n",
    "\n",
    "# Preserve chronological order (model_id = 1, 2, ..., 11)\n",
    "model_order_chrono = best_loss_per_model_chrono[\"model_id\"]\n",
    "\n",
    "# Plot\n",
    "plt.figure(figsize=(10, 5))\n",
    "ax = sns.barplot(\n",
    "    data=best_loss_per_model_chrono,\n",
    "    x=\"model_id\",\n",
    "    y=\"loss\",\n",
    "    palette=trans_palette,\n",
    "    order=model_order_chrono,\n",
    "    width=0.5,\n",
    "    edgecolor=\"black\",\n",
    "    linewidth=0.8\n",
    ")\n",
    "ax.set_facecolor(\"#f9f9f9\")  # 🧼 Off-white background for bar area only\n",
    "\n",
    "plt.title(\"Best Loss per Model (By Model Version)\")\n",
    "plt.xlabel(\"Model Version\")\n",
    "plt.ylabel(\"Best Loss\")\n",
    "plt.xticks(rotation=0)\n",
    "sns.despine()  # 🔥 Clean up plot borders\n",
    "plt.tight_layout()\n",
    "plt.show()"
   ]
  },
  {
   "cell_type": "markdown",
   "id": "a4f8bf4f",
   "metadata": {},
   "source": [
    "# HhhhhHHHHHHHHHHHHHHHH"
   ]
  },
  {
   "cell_type": "markdown",
   "id": "b874d407",
   "metadata": {},
   "source": [
    "confusion matrices"
   ]
  },
  {
   "cell_type": "code",
   "execution_count": 118,
   "id": "a5abff3f",
   "metadata": {},
   "outputs": [],
   "source": [
    "df_loss = pd.DataFrame(loss_records)\n",
    "df_loss[\"model_id\"] = df_loss[\"timestamp\"].factorize()[0] + 1"
   ]
  },
  {
   "cell_type": "markdown",
   "id": "29f0f74b",
   "metadata": {},
   "source": [
    "get the three model joblib names for models 4, 8, 11"
   ]
  },
  {
   "cell_type": "code",
   "execution_count": 119,
   "id": "8a2ae5b9",
   "metadata": {},
   "outputs": [
    {
     "name": "stdout",
     "output_type": "stream",
     "text": [
      "['checkpoint_model_20250507101952_epoch1.joblib', 'checkpoint_model_20250511092238_epoch1.joblib', 'checkpoint_model_20250511133104_epoch1.joblib']\n"
     ]
    }
   ],
   "source": [
    "best_checkpoints = (\n",
    "    df_loss.sort_values(\"loss\")\n",
    "    .groupby(\"model_id\", as_index=False)\n",
    "    .first()\n",
    ")\n",
    "\n",
    "# Get model_ids 4, 8, and 11\n",
    "target_models = best_checkpoints[best_checkpoints[\"model_id\"].isin([4, 8, 11])]\n",
    "target_model_files = target_models[\"model_file\"].tolist()\n",
    "print(target_model_files)"
   ]
  },
  {
   "cell_type": "markdown",
   "id": "5429c1ab",
   "metadata": {},
   "source": [
    "chat fuckin cooked here and she keeps trying to do other shit but this is as close as I got. ugh"
   ]
  },
  {
   "cell_type": "code",
   "execution_count": null,
   "id": "9959a3f8",
   "metadata": {},
   "outputs": [],
   "source": [
    "import os\n",
    "import torch\n",
    "import joblib\n",
    "import pandas as pd\n",
    "import seaborn as sns\n",
    "import matplotlib.pyplot as plt\n",
    "from sklearn.metrics import confusion_matrix\n",
    "from dags.model_code import TripletNet  # from model.py\n",
    "from torch.nn.functional import cosine_similarity\n",
    "\n",
    "# -- Paths ---\n",
    "MODEL_DIR = \"/path/to/joblibs\"  # 🔁 UPDATE this\n",
    "CENTROIDS = {\n",
    "    \"pro\": torch.load(\"centroids/pro.pt\"),    # 🔁 UPDATE paths\n",
    "    \"anti\": torch.load(\"centroids/anti.pt\"),\n",
    "}\n",
    "device = torch.device(\"cuda\" if torch.cuda.is_available() else \"cpu\")\n",
    "\n",
    "# -- Load snapshot CSV with precomputed embeddings --\n",
    "df = pd.read_csv(\"all_data_snapshot.csv\")\n",
    "\n",
    "# Convert embeddings into tensors\n",
    "embedding_cols = [f\"embedding[{i}]\" for i in range(384)]  # adjust if dim is different\n",
    "X = torch.tensor(df[embedding_cols].values, dtype=torch.float32).to(device)\n",
    "y_true = df[\"stance\"].map({\"anti-trans\": 0, \"pro-trans\": 1}).values  # or use stance_encoded if preferred\n",
    "\n",
    "# -- Cosine classification function --\n",
    "def classify(model, X):\n",
    "    model.eval()\n",
    "    with torch.no_grad():\n",
    "        embedded = model.project(X)  # project() should map embedding → shared space\n",
    "        pro_sim = cosine_similarity(embedded, CENTROIDS[\"pro\"].unsqueeze(0))\n",
    "        anti_sim = cosine_similarity(embedded, CENTROIDS[\"anti\"].unsqueeze(0))\n",
    "        preds = (pro_sim > anti_sim).long().squeeze()\n",
    "    return preds.cpu().numpy()\n",
    "\n",
    "# -- Confusion matrix plotter --\n",
    "def plot_confusion(y_true, y_pred, model_name):\n",
    "    cm = confusion_matrix(y_true, y_pred)\n",
    "    sns.heatmap(cm, annot=True, fmt=\"d\", cmap=\"coolwarm\", xticklabels=[\"Anti\", \"Pro\"], yticklabels=[\"Anti\", \"Pro\"])\n",
    "    plt.xlabel(\"Predicted\")\n",
    "    plt.ylabel(\"True\")\n",
    "    plt.title(f\"Confusion Matrix — {model_name}\")\n",
    "    plt.tight_layout()\n",
    "    plt.show()\n",
    "\n",
    "# -- Evaluate selected models --\n",
    "target_model_files = [\n",
    "    \"checkpoint_model_20250507101952_epoch1.joblib\",\n",
    "    \"checkpoint_model_20250511092238_epoch1.joblib\",\n",
    "    \"checkpoint_model_20250511133104_epoch1.joblib\"\n",
    "]\n",
    "\n",
    "for fname in target_model_files:\n",
    "    print(f\"🔍 Evaluating {fname}...\")\n",
    "    model_path = os.path.join(MODEL_DIR, fname)\n",
    "    model = TripletNet().to(device)\n",
    "    model.load_state_dict(joblib.load(model_path))\n",
    "    \n",
    "    y_pred = classify(model, X)\n",
    "    plot_confusion(y_true, y_pred, fname)"
   ]
  }
 ],
 "metadata": {
  "kernelspec": {
   "display_name": "mlops",
   "language": "python",
   "name": "python3"
  },
  "language_info": {
   "codemirror_mode": {
    "name": "ipython",
    "version": 3
   },
   "file_extension": ".py",
   "mimetype": "text/x-python",
   "name": "python",
   "nbconvert_exporter": "python",
   "pygments_lexer": "ipython3",
   "version": "3.12.9"
  }
 },
 "nbformat": 4,
 "nbformat_minor": 5
}
