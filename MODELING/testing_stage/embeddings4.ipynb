{
 "cells": [
  {
   "cell_type": "markdown",
   "id": "4a7660fc",
   "metadata": {},
   "source": [
    "This notebook gets the baseline joblib file for the beginning phase. Needed for the first task in the DAG (fetch_articles) to function (so that the retrain step can have embeddings to update and compare against later)."
   ]
  },
  {
   "cell_type": "code",
   "execution_count": 1,
   "id": "6479fb38",
   "metadata": {},
   "outputs": [
    {
     "name": "stderr",
     "output_type": "stream",
     "text": [
      "/opt/anaconda3/envs/mlops/lib/python3.12/site-packages/tqdm/auto.py:21: TqdmWarning: IProgress not found. Please update jupyter and ipywidgets. See https://ipywidgets.readthedocs.io/en/stable/user_install.html\n",
      "  from .autonotebook import tqdm as notebook_tqdm\n"
     ]
    }
   ],
   "source": [
    "import pandas as pd\n",
    "import torch\n",
    "import torch.nn as nn\n",
    "from torch.utils.data import Dataset, DataLoader, random_split\n",
    "from transformers import AutoTokenizer, AutoModel\n",
    "import matplotlib.pyplot as plt\n",
    "import umap\n",
    "import numpy as np\n",
    "from tqdm import tqdm\n",
    "import random\n",
    "from sklearn.preprocessing import LabelEncoder\n",
    "from sklearn.neighbors import NearestNeighbors\n",
    "from sklearn.linear_model import LogisticRegression\n",
    "from sklearn.model_selection import train_test_split\n",
    "from sentence_transformers import SentenceTransformer\n",
    "import joblib"
   ]
  },
  {
   "cell_type": "code",
   "execution_count": 2,
   "id": "8505cc7d",
   "metadata": {},
   "outputs": [],
   "source": [
    "SHEET_CSV_URL = \"https://docs.google.com/spreadsheets/d/19gFONrR0d4Ed57gGWtUqVHjjvw85WgysCh9ukhiTmBM/export?format=csv\"\n",
    "df = pd.read_csv(SHEET_CSV_URL)"
   ]
  },
  {
   "cell_type": "code",
   "execution_count": 3,
   "id": "03a00899",
   "metadata": {},
   "outputs": [
    {
     "data": {
      "text/html": [
       "<div>\n",
       "<style scoped>\n",
       "    .dataframe tbody tr th:only-of-type {\n",
       "        vertical-align: middle;\n",
       "    }\n",
       "\n",
       "    .dataframe tbody tr th {\n",
       "        vertical-align: top;\n",
       "    }\n",
       "\n",
       "    .dataframe thead th {\n",
       "        text-align: right;\n",
       "    }\n",
       "</style>\n",
       "<table border=\"1\" class=\"dataframe\">\n",
       "  <thead>\n",
       "    <tr style=\"text-align: right;\">\n",
       "      <th></th>\n",
       "      <th>date</th>\n",
       "      <th>title</th>\n",
       "      <th>url</th>\n",
       "      <th>publication</th>\n",
       "      <th>author</th>\n",
       "      <th>stance</th>\n",
       "      <th>topic_category</th>\n",
       "      <th>content</th>\n",
       "    </tr>\n",
       "  </thead>\n",
       "  <tbody>\n",
       "    <tr>\n",
       "      <th>0</th>\n",
       "      <td>4/11/2025</td>\n",
       "      <td>Mapping Attacks on LGBTQ Rights in U.S. State ...</td>\n",
       "      <td>https://www.aclu.org/legislative-attacks-on-lg...</td>\n",
       "      <td>ACLU</td>\n",
       "      <td>None listed</td>\n",
       "      <td>Pro</td>\n",
       "      <td>1</td>\n",
       "      <td>No text content</td>\n",
       "    </tr>\n",
       "    <tr>\n",
       "      <th>1</th>\n",
       "      <td>4/3/25</td>\n",
       "      <td>The Human Toll of Trump's Anti-Trans Crusade</td>\n",
       "      <td>https://www.aclu.org/news/lgbtq-rights/the-hum...</td>\n",
       "      <td>ACLU</td>\n",
       "      <td>Lisa Francois</td>\n",
       "      <td>Pro</td>\n",
       "      <td>2</td>\n",
       "      <td>President Donald Trump’s assault on transgende...</td>\n",
       "    </tr>\n",
       "    <tr>\n",
       "      <th>2</th>\n",
       "      <td>4/3/25</td>\n",
       "      <td>Perkins et al. v. State (HB 121)</td>\n",
       "      <td>https://www.aclu.org/cases/perkins-et-al-v-state</td>\n",
       "      <td>ACLU</td>\n",
       "      <td>None listed</td>\n",
       "      <td>Pro</td>\n",
       "      <td>3</td>\n",
       "      <td>HB 121, which took effect on March 27, 2025, i...</td>\n",
       "    </tr>\n",
       "    <tr>\n",
       "      <th>3</th>\n",
       "      <td>2/11/2025</td>\n",
       "      <td>Montana Senate endorses bill tying bathrooms t...</td>\n",
       "      <td>https://www.kpax.com/news/montana-senate-endor...</td>\n",
       "      <td>KPAX (local news)</td>\n",
       "      <td>Jonathon Ambarian</td>\n",
       "      <td>Anti</td>\n",
       "      <td>3, 10, 14, 17</td>\n",
       "      <td>A bill that would require transgender people i...</td>\n",
       "    </tr>\n",
       "    <tr>\n",
       "      <th>4</th>\n",
       "      <td>3/26/25</td>\n",
       "      <td>Library Patrons Sue Greenville County Over Wid...</td>\n",
       "      <td>https://www.aclu.org/press-releases/library-pa...</td>\n",
       "      <td>ACLU</td>\n",
       "      <td>None listed</td>\n",
       "      <td>Pro</td>\n",
       "      <td>4</td>\n",
       "      <td>GREENVILLE, S.C. – Local library patrons, with...</td>\n",
       "    </tr>\n",
       "  </tbody>\n",
       "</table>\n",
       "</div>"
      ],
      "text/plain": [
       "        date                                              title  \\\n",
       "0  4/11/2025  Mapping Attacks on LGBTQ Rights in U.S. State ...   \n",
       "1     4/3/25       The Human Toll of Trump's Anti-Trans Crusade   \n",
       "2     4/3/25                   Perkins et al. v. State (HB 121)   \n",
       "3  2/11/2025  Montana Senate endorses bill tying bathrooms t...   \n",
       "4    3/26/25  Library Patrons Sue Greenville County Over Wid...   \n",
       "\n",
       "                                                 url        publication  \\\n",
       "0  https://www.aclu.org/legislative-attacks-on-lg...               ACLU   \n",
       "1  https://www.aclu.org/news/lgbtq-rights/the-hum...               ACLU   \n",
       "2   https://www.aclu.org/cases/perkins-et-al-v-state               ACLU   \n",
       "3  https://www.kpax.com/news/montana-senate-endor...  KPAX (local news)   \n",
       "4  https://www.aclu.org/press-releases/library-pa...               ACLU   \n",
       "\n",
       "              author stance topic_category  \\\n",
       "0        None listed    Pro              1   \n",
       "1      Lisa Francois    Pro              2   \n",
       "2        None listed    Pro              3   \n",
       "3  Jonathon Ambarian   Anti  3, 10, 14, 17   \n",
       "4        None listed    Pro              4   \n",
       "\n",
       "                                             content  \n",
       "0                                    No text content  \n",
       "1  President Donald Trump’s assault on transgende...  \n",
       "2  HB 121, which took effect on March 27, 2025, i...  \n",
       "3  A bill that would require transgender people i...  \n",
       "4  GREENVILLE, S.C. – Local library patrons, with...  "
      ]
     },
     "execution_count": 3,
     "metadata": {},
     "output_type": "execute_result"
    }
   ],
   "source": [
    "df.head()"
   ]
  },
  {
   "cell_type": "code",
   "execution_count": 4,
   "id": "d8169e96",
   "metadata": {},
   "outputs": [
    {
     "name": "stdout",
     "output_type": "stream",
     "text": [
      "using device: mps\n"
     ]
    }
   ],
   "source": [
    "device = torch.device('mps' if torch.backends.mps.is_available() else 'cpu')\n",
    "print('using device:', device)"
   ]
  },
  {
   "cell_type": "code",
   "execution_count": 5,
   "id": "53a5d5c5",
   "metadata": {},
   "outputs": [
    {
     "name": "stdout",
     "output_type": "stream",
     "text": [
      "['anti' 'pro']\n"
     ]
    }
   ],
   "source": [
    "# combine title and text\n",
    "df['full_text'] = df['title'].fillna('') + ' ' + df['content'].fillna('')\n",
    "\n",
    "# encode stance labels\n",
    "le = LabelEncoder()\n",
    "df['stance_encoded'] = le.fit_transform(df['stance'].str.lower())\n",
    "\n",
    "print(le.classes_)"
   ]
  },
  {
   "cell_type": "code",
   "execution_count": 10,
   "id": "0fd8bc0d",
   "metadata": {},
   "outputs": [
    {
     "name": "stderr",
     "output_type": "stream",
     "text": [
      "Batches: 100%|██████████| 8/8 [00:02<00:00,  3.58it/s]\n",
      "Batches: 100%|██████████| 8/8 [00:02<00:00,  3.80it/s]\n"
     ]
    }
   ],
   "source": [
    "model = SentenceTransformer(\"all-MiniLM-L6-v2\")\n",
    "X = model.encode(df[\"full_text\"].tolist(), show_progress_bar=True)\n",
    "y = df[\"stance_encoded\"].values\n",
    "full_embeddings = model.encode(df['full_text'].tolist(), show_progress_bar=True)"
   ]
  },
  {
   "cell_type": "code",
   "execution_count": 11,
   "id": "85c25fa3",
   "metadata": {},
   "outputs": [
    {
     "name": "stderr",
     "output_type": "stream",
     "text": [
      "/opt/anaconda3/envs/mlops/lib/python3.12/site-packages/sklearn/linear_model/_logistic.py:1247: FutureWarning: 'multi_class' was deprecated in version 1.5 and will be removed in 1.7. From then on, it will always use 'multinomial'. Leave it to its default value to avoid this warning.\n",
      "  warnings.warn(\n"
     ]
    },
    {
     "data": {
      "text/plain": [
       "['classifier.joblib']"
      ]
     },
     "execution_count": 11,
     "metadata": {},
     "output_type": "execute_result"
    }
   ],
   "source": [
    "clf = LogisticRegression(multi_class=\"auto\")  # or 'ovr'\n",
    "clf.fit(X, y)\n",
    "joblib.dump(clf, \"classifier.joblib\")"
   ]
  },
  {
   "cell_type": "code",
   "execution_count": 12,
   "id": "f6887c05",
   "metadata": {},
   "outputs": [
    {
     "name": "stdout",
     "output_type": "stream",
     "text": [
      "✅ Saved classifier.joblib\n"
     ]
    }
   ],
   "source": [
    "joblib.dump(clf, \"classifier.joblib\")\n",
    "print(\"✅ Saved classifier.joblib\")"
   ]
  },
  {
   "cell_type": "code",
   "execution_count": null,
   "id": "29bbcca2",
   "metadata": {},
   "outputs": [],
   "source": []
  }
 ],
 "metadata": {
  "kernelspec": {
   "display_name": "mlops",
   "language": "python",
   "name": "python3"
  },
  "language_info": {
   "codemirror_mode": {
    "name": "ipython",
    "version": 3
   },
   "file_extension": ".py",
   "mimetype": "text/x-python",
   "name": "python",
   "nbconvert_exporter": "python",
   "pygments_lexer": "ipython3",
   "version": "3.12.9"
  }
 },
 "nbformat": 4,
 "nbformat_minor": 5
}
