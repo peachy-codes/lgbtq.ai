{
 "cells": [
  {
   "cell_type": "code",
   "execution_count": 5,
   "id": "547e5704",
   "metadata": {},
   "outputs": [
    {
     "name": "stderr",
     "output_type": "stream",
     "text": [
      "/opt/anaconda3/envs/mlops/lib/python3.12/site-packages/tqdm/auto.py:21: TqdmWarning: IProgress not found. Please update jupyter and ipywidgets. See https://ipywidgets.readthedocs.io/en/stable/user_install.html\n",
      "  from .autonotebook import tqdm as notebook_tqdm\n"
     ]
    }
   ],
   "source": [
    "import pandas as pd\n",
    "import torch\n",
    "import torch.nn as nn\n",
    "from torch.utils.data import Dataset, DataLoader, random_split\n",
    "from transformers import AutoTokenizer, AutoModel\n",
    "import matplotlib.pyplot as plt\n",
    "import umap\n",
    "import numpy as np\n",
    "from tqdm import tqdm\n",
    "import random\n",
    "from sklearn.preprocessing import LabelEncoder\n",
    "from sklearn.neighbors import NearestNeighbors\n",
    "from sklearn.linear_model import LogisticRegression\n",
    "from sklearn.model_selection import train_test_split\n",
    "from sentence_transformers import SentenceTransformer\n",
    "import joblib"
   ]
  },
  {
   "cell_type": "code",
   "execution_count": 6,
   "id": "dbcefdf5",
   "metadata": {},
   "outputs": [],
   "source": [
    "SHEET_CSV_URL = \"https://docs.google.com/spreadsheets/d/19gFONrR0d4Ed57gGWtUqVHjjvw85WgysCh9ukhiTmBM/export?format=csv\"\n",
    "df = pd.read_csv(SHEET_CSV_URL)"
   ]
  },
  {
   "cell_type": "code",
   "execution_count": 7,
   "id": "8510bc4a",
   "metadata": {},
   "outputs": [
    {
     "data": {
      "text/html": [
       "<div>\n",
       "<style scoped>\n",
       "    .dataframe tbody tr th:only-of-type {\n",
       "        vertical-align: middle;\n",
       "    }\n",
       "\n",
       "    .dataframe tbody tr th {\n",
       "        vertical-align: top;\n",
       "    }\n",
       "\n",
       "    .dataframe thead th {\n",
       "        text-align: right;\n",
       "    }\n",
       "</style>\n",
       "<table border=\"1\" class=\"dataframe\">\n",
       "  <thead>\n",
       "    <tr style=\"text-align: right;\">\n",
       "      <th></th>\n",
       "      <th>date</th>\n",
       "      <th>title</th>\n",
       "      <th>url</th>\n",
       "      <th>publication</th>\n",
       "      <th>author</th>\n",
       "      <th>stance</th>\n",
       "      <th>topic_category</th>\n",
       "      <th>content</th>\n",
       "    </tr>\n",
       "  </thead>\n",
       "  <tbody>\n",
       "    <tr>\n",
       "      <th>0</th>\n",
       "      <td>4/11/2025</td>\n",
       "      <td>Mapping Attacks on LGBTQ Rights in U.S. State ...</td>\n",
       "      <td>https://www.aclu.org/legislative-attacks-on-lg...</td>\n",
       "      <td>ACLU</td>\n",
       "      <td>None listed</td>\n",
       "      <td>Pro</td>\n",
       "      <td>1</td>\n",
       "      <td>No text content</td>\n",
       "    </tr>\n",
       "    <tr>\n",
       "      <th>1</th>\n",
       "      <td>4/3/25</td>\n",
       "      <td>The Human Toll of Trump's Anti-Trans Crusade</td>\n",
       "      <td>https://www.aclu.org/news/lgbtq-rights/the-hum...</td>\n",
       "      <td>ACLU</td>\n",
       "      <td>Lisa Francois</td>\n",
       "      <td>Pro</td>\n",
       "      <td>2</td>\n",
       "      <td>President Donald Trump’s assault on transgende...</td>\n",
       "    </tr>\n",
       "    <tr>\n",
       "      <th>2</th>\n",
       "      <td>4/3/25</td>\n",
       "      <td>Perkins et al. v. State (HB 121)</td>\n",
       "      <td>https://www.aclu.org/cases/perkins-et-al-v-state</td>\n",
       "      <td>ACLU</td>\n",
       "      <td>None listed</td>\n",
       "      <td>Pro</td>\n",
       "      <td>3</td>\n",
       "      <td>HB 121, which took effect on March 27, 2025, i...</td>\n",
       "    </tr>\n",
       "    <tr>\n",
       "      <th>3</th>\n",
       "      <td>2/11/2025</td>\n",
       "      <td>Montana Senate endorses bill tying bathrooms t...</td>\n",
       "      <td>https://www.kpax.com/news/montana-senate-endor...</td>\n",
       "      <td>KPAX (local news)</td>\n",
       "      <td>Jonathon Ambarian</td>\n",
       "      <td>Anti</td>\n",
       "      <td>3, 10, 14, 17</td>\n",
       "      <td>A bill that would require transgender people i...</td>\n",
       "    </tr>\n",
       "    <tr>\n",
       "      <th>4</th>\n",
       "      <td>3/26/25</td>\n",
       "      <td>Library Patrons Sue Greenville County Over Wid...</td>\n",
       "      <td>https://www.aclu.org/press-releases/library-pa...</td>\n",
       "      <td>ACLU</td>\n",
       "      <td>None listed</td>\n",
       "      <td>Pro</td>\n",
       "      <td>4</td>\n",
       "      <td>GREENVILLE, S.C. – Local library patrons, with...</td>\n",
       "    </tr>\n",
       "  </tbody>\n",
       "</table>\n",
       "</div>"
      ],
      "text/plain": [
       "        date                                              title  \\\n",
       "0  4/11/2025  Mapping Attacks on LGBTQ Rights in U.S. State ...   \n",
       "1     4/3/25       The Human Toll of Trump's Anti-Trans Crusade   \n",
       "2     4/3/25                   Perkins et al. v. State (HB 121)   \n",
       "3  2/11/2025  Montana Senate endorses bill tying bathrooms t...   \n",
       "4    3/26/25  Library Patrons Sue Greenville County Over Wid...   \n",
       "\n",
       "                                                 url        publication  \\\n",
       "0  https://www.aclu.org/legislative-attacks-on-lg...               ACLU   \n",
       "1  https://www.aclu.org/news/lgbtq-rights/the-hum...               ACLU   \n",
       "2   https://www.aclu.org/cases/perkins-et-al-v-state               ACLU   \n",
       "3  https://www.kpax.com/news/montana-senate-endor...  KPAX (local news)   \n",
       "4  https://www.aclu.org/press-releases/library-pa...               ACLU   \n",
       "\n",
       "              author stance topic_category  \\\n",
       "0        None listed    Pro              1   \n",
       "1      Lisa Francois    Pro              2   \n",
       "2        None listed    Pro              3   \n",
       "3  Jonathon Ambarian   Anti  3, 10, 14, 17   \n",
       "4        None listed    Pro              4   \n",
       "\n",
       "                                             content  \n",
       "0                                    No text content  \n",
       "1  President Donald Trump’s assault on transgende...  \n",
       "2  HB 121, which took effect on March 27, 2025, i...  \n",
       "3  A bill that would require transgender people i...  \n",
       "4  GREENVILLE, S.C. – Local library patrons, with...  "
      ]
     },
     "execution_count": 7,
     "metadata": {},
     "output_type": "execute_result"
    }
   ],
   "source": [
    "df.head()"
   ]
  },
  {
   "cell_type": "code",
   "execution_count": 13,
   "id": "29a9c1e4",
   "metadata": {},
   "outputs": [
    {
     "name": "stdout",
     "output_type": "stream",
     "text": [
      "using device: mps\n"
     ]
    }
   ],
   "source": [
    "device = torch.device('mps' if torch.backends.mps.is_available() else 'cpu')\n",
    "print('using device:', device)"
   ]
  },
  {
   "cell_type": "code",
   "execution_count": 10,
   "id": "ae557fdf",
   "metadata": {},
   "outputs": [
    {
     "name": "stdout",
     "output_type": "stream",
     "text": [
      "['anti' 'pro']\n"
     ]
    }
   ],
   "source": [
    "# combine title and text\n",
    "df['full_text'] = df['title'].fillna('') + ' ' + df['content'].fillna('')\n",
    "\n",
    "# encode stance labels\n",
    "le = LabelEncoder()\n",
    "df['stance_encoded'] = le.fit_transform(df['stance'].str.lower())\n",
    "\n",
    "print(le.classes_)"
   ]
  },
  {
   "cell_type": "code",
   "execution_count": 11,
   "id": "512ddfb9",
   "metadata": {},
   "outputs": [],
   "source": [
    "def encode_text(text_list, tokenizer, device):\n",
    "    encodings = tokenizer(text_list, padding=True, truncation=True, max_length=512, return_tensors=\"pt\")\n",
    "    return encodings['input_ids'].to(device), encodings['attention_mask'].to(device)\n",
    "\n",
    "def encode_texts_batched(text_list, tokenizer, model, device, batch_size=16):\n",
    "    model.eval()\n",
    "    embeddings = []\n",
    "    for i in tqdm(range(0, len(text_list), batch_size), desc=\"Encoding Batches\"):\n",
    "        batch_texts = text_list[i:i+batch_size]\n",
    "        input_ids, attention_mask = encode_text(batch_texts, tokenizer, device)\n",
    "        with torch.no_grad():\n",
    "            outputs = model(input_ids=input_ids, attention_mask=attention_mask)\n",
    "            batch_emb = outputs.last_hidden_state[:, 0]\n",
    "        embeddings.append(batch_emb.cpu())\n",
    "    return torch.cat(embeddings, dim=0)"
   ]
  },
  {
   "cell_type": "code",
   "execution_count": 12,
   "id": "b464eb42",
   "metadata": {},
   "outputs": [],
   "source": [
    "class EmbeddingNet(nn.Module):\n",
    "    def __init__(self, encoder):\n",
    "        super().__init__()\n",
    "        self.encoder = encoder\n",
    "        self.embedding_dim = 768\n",
    "        self.fc = nn.Linear(self.embedding_dim, 128)\n",
    "\n",
    "    def forward(self, input_ids, attention_mask):\n",
    "        with torch.no_grad():\n",
    "            outputs = self.encoder(input_ids=input_ids, attention_mask=attention_mask)\n",
    "            pooled_output = outputs.last_hidden_state[:, 0]\n",
    "        return self.fc(pooled_output)"
   ]
  },
  {
   "cell_type": "code",
   "execution_count": 14,
   "id": "afc2b94d",
   "metadata": {},
   "outputs": [
    {
     "name": "stderr",
     "output_type": "stream",
     "text": [
      "Batches: 100%|██████████| 8/8 [00:02<00:00,  3.74it/s]\n"
     ]
    }
   ],
   "source": [
    "model = SentenceTransformer(\"all-MiniLM-L6-v2\")\n",
    "full_embeddings = model.encode(df['content'].tolist(), show_progress_bar=True)"
   ]
  },
  {
   "cell_type": "code",
   "execution_count": 8,
   "id": "13987645",
   "metadata": {},
   "outputs": [
    {
     "name": "stderr",
     "output_type": "stream",
     "text": [
      "Encoding Batches:   0%|          | 0/16 [00:00<?, ?it/s]"
     ]
    },
    {
     "name": "stderr",
     "output_type": "stream",
     "text": [
      "Encoding Batches: 100%|██████████| 16/16 [00:13<00:00,  1.20it/s]\n"
     ]
    }
   ],
   "source": [
    "all_texts = df['full_text'].tolist()\n",
    "full_embeddings = encode_texts_batched(all_texts, tokenizer, bert, device)"
   ]
  },
  {
   "cell_type": "code",
   "execution_count": 9,
   "id": "53fd6ede",
   "metadata": {},
   "outputs": [],
   "source": [
    "class BatchMiner:\n",
    "    def __init__(self, embeddings, labels, n_neighbors=20):\n",
    "        self.embeddings = embeddings\n",
    "        self.labels = labels\n",
    "        self.n_neighbors = n_neighbors\n",
    "\n",
    "        self.nn = NearestNeighbors(n_neighbors=n_neighbors, metric='cosine')\n",
    "        self.nn.fit(embeddings)\n",
    "\n",
    "    def get_hard_triplets(self):\n",
    "        triplets = []\n",
    "        for idx, emb in enumerate(self.embeddings):\n",
    "            label = self.labels[idx]\n",
    "            distances, indices = self.nn.kneighbors([emb])\n",
    "            indices = indices.flatten()\n",
    "\n",
    "            pos_idx = None\n",
    "            neg_idx = None\n",
    "\n",
    "            for i in indices[::-1]:  # farthest positive\n",
    "                if i != idx and self.labels[i] == label:\n",
    "                    pos_idx = i\n",
    "                    break\n",
    "            for i in indices:  # nearest negative\n",
    "                if self.labels[i] != label:\n",
    "                    neg_idx = i\n",
    "                    break\n",
    "\n",
    "            if pos_idx is not None and neg_idx is not None:\n",
    "                triplets.append((idx, pos_idx, neg_idx))\n",
    "        \n",
    "        return triplets"
   ]
  },
  {
   "cell_type": "code",
   "execution_count": 10,
   "id": "36d1cb9b",
   "metadata": {},
   "outputs": [],
   "source": [
    "miner = BatchMiner(full_embeddings.numpy(), df['stance_encoded'].values)\n",
    "triplets = miner.get_hard_triplets()"
   ]
  },
  {
   "cell_type": "code",
   "execution_count": 11,
   "id": "7ebc14e7",
   "metadata": {},
   "outputs": [],
   "source": [
    "class TripletDatasetFromIndices(Dataset):\n",
    "    def __init__(self, df, triplets):\n",
    "        self.df = df.reset_index(drop=True)\n",
    "        self.triplets = triplets\n",
    "\n",
    "    def __len__(self):\n",
    "        return len(self.triplets)\n",
    "\n",
    "    def __getitem__(self, idx):\n",
    "        anchor_idx, pos_idx, neg_idx = self.triplets[idx]\n",
    "\n",
    "        anchor_text = self.df.loc[anchor_idx, 'full_text']\n",
    "        positive_text = self.df.loc[pos_idx, 'full_text']\n",
    "        negative_text = self.df.loc[neg_idx, 'full_text']\n",
    "        anchor_label = self.df.loc[anchor_idx, 'stance_encoded']\n",
    "\n",
    "        return anchor_text, positive_text, negative_text, anchor_label"
   ]
  },
  {
   "cell_type": "code",
   "execution_count": 12,
   "id": "06bfe0dd",
   "metadata": {},
   "outputs": [],
   "source": [
    "dataset = TripletDatasetFromIndices(df, triplets)"
   ]
  },
  {
   "cell_type": "code",
   "execution_count": 13,
   "id": "37bb17f8",
   "metadata": {},
   "outputs": [],
   "source": [
    "class EmbeddingNet(nn.Module):\n",
    "    def __init__(self, encoder):\n",
    "        super().__init__()\n",
    "        self.encoder = encoder\n",
    "        self.embedding_dim = 768\n",
    "        self.fc = nn.Linear(self.embedding_dim, 128)\n",
    "\n",
    "    def forward(self, input_ids, attention_mask):\n",
    "        with torch.no_grad():\n",
    "            outputs = self.encoder(input_ids=input_ids, attention_mask=attention_mask)\n",
    "            pooled_output = outputs.last_hidden_state[:, 0]\n",
    "        return self.fc(pooled_output)"
   ]
  },
  {
   "cell_type": "code",
   "execution_count": 14,
   "id": "f0b693ba",
   "metadata": {},
   "outputs": [],
   "source": [
    "class EmbeddingNet(nn.Module):\n",
    "    def __init__(self, encoder):\n",
    "        super().__init__()\n",
    "        self.encoder = encoder\n",
    "        self.embedding_dim = 768\n",
    "        self.fc = nn.Linear(self.embedding_dim, 128)\n",
    "\n",
    "    def forward(self, input_ids, attention_mask):\n",
    "        with torch.no_grad():\n",
    "            outputs = self.encoder(input_ids=input_ids, attention_mask=attention_mask)\n",
    "            pooled_output = outputs.last_hidden_state[:, 0]\n",
    "        return self.fc(pooled_output)"
   ]
  },
  {
   "cell_type": "code",
   "execution_count": 15,
   "id": "736962d1",
   "metadata": {},
   "outputs": [],
   "source": [
    "model = EmbeddingNet(bert).to(device)"
   ]
  },
  {
   "cell_type": "code",
   "execution_count": 16,
   "id": "42582ef7",
   "metadata": {},
   "outputs": [],
   "source": [
    "def train_triplet(model, dataset, epochs=10, batch_size=16):\n",
    "    dataloader = DataLoader(dataset, batch_size=batch_size, shuffle=True)\n",
    "    criterion = nn.TripletMarginLoss(margin=0.8)\n",
    "    optimizer = torch.optim.Adam(model.parameters(), lr=1e-4)\n",
    "\n",
    "    losses = []\n",
    "    \n",
    "    for epoch in range(epochs):\n",
    "        total_loss = 0\n",
    "        model.train()\n",
    "        pbar = tqdm(dataloader, desc=f\"Epoch {epoch+1}/{epochs}\")\n",
    "        \n",
    "        for anchor, positive, negative, _ in pbar:\n",
    "            anchor_ids, anchor_mask = encode_text(anchor, tokenizer, device)\n",
    "            positive_ids, positive_mask = encode_text(positive, tokenizer, device)\n",
    "            negative_ids, negative_mask = encode_text(negative, tokenizer, device)\n",
    "\n",
    "            anchor_emb = model(anchor_ids, anchor_mask)\n",
    "            positive_emb = model(positive_ids, positive_mask)\n",
    "            negative_emb = model(negative_ids, negative_mask)\n",
    "\n",
    "            loss = criterion(anchor_emb, positive_emb, negative_emb)\n",
    "\n",
    "            optimizer.zero_grad()\n",
    "            loss.backward()\n",
    "            optimizer.step()\n",
    "\n",
    "            total_loss += loss.item()\n",
    "            pbar.set_postfix(loss=loss.item())\n",
    "        \n",
    "        avg_loss = total_loss / len(dataloader)\n",
    "        losses.append(avg_loss)\n",
    "    \n",
    "    return losses"
   ]
  },
  {
   "cell_type": "code",
   "execution_count": 17,
   "id": "b1294e79",
   "metadata": {},
   "outputs": [],
   "source": [
    "def plot_loss(losses):\n",
    "    plt.plot(losses, marker='o')\n",
    "    plt.title(\"Triplet Loss Over Epochs\")\n",
    "    plt.xlabel(\"Epoch\")\n",
    "    plt.ylabel(\"Loss\")\n",
    "    plt.grid()\n",
    "    plt.show()"
   ]
  },
  {
   "cell_type": "code",
   "execution_count": 18,
   "id": "bb6db541",
   "metadata": {},
   "outputs": [],
   "source": [
    "def visualize_embeddings(model, df, n_samples=200):\n",
    "    model.eval()\n",
    "    \n",
    "    texts = df.sample(n=n_samples, random_state=42)['full_text'].tolist()\n",
    "    labels = df.sample(n=n_samples, random_state=42)['stance_encoded'].tolist()\n",
    "    \n",
    "    input_ids, attention_mask = encode_text(texts, tokenizer, device)\n",
    "    embeddings = model(input_ids, attention_mask).detach().cpu().numpy()\n",
    "    \n",
    "    reducer = umap.UMAP()\n",
    "    emb_2d = reducer.fit_transform(embeddings)\n",
    "    \n",
    "    plt.figure(figsize=(8,6))\n",
    "    scatter = plt.scatter(emb_2d[:, 0], emb_2d[:, 1], c=labels, cmap='coolwarm', alpha=0.7)\n",
    "    plt.title('UMAP projection of Embeddings')\n",
    "    plt.colorbar(scatter, label='Stance')\n",
    "    plt.show()\n",
    "    \n",
    "    return emb_2d, labels"
   ]
  },
  {
   "cell_type": "code",
   "execution_count": 19,
   "id": "5dec2e6a",
   "metadata": {},
   "outputs": [],
   "source": [
    "def plot_decision_boundary(embeddings_2d, labels):\n",
    "    X = np.array(embeddings_2d)\n",
    "    y = np.array(labels)\n",
    "\n",
    "    X_train, X_test, y_train, y_test = train_test_split(X, y, stratify=y, random_state=42, test_size=0.2)\n",
    "\n",
    "    clf = LogisticRegression()\n",
    "    clf.fit(X_train, y_train)\n",
    "\n",
    "    h = .02\n",
    "    x_min, x_max = X[:, 0].min() - 1, X[:, 0].max() + 1\n",
    "    y_min, y_max = X[:, 1].min() - 1, X[:, 1].max() + 1\n",
    "    xx, yy = np.meshgrid(np.arange(x_min, x_max, h),\n",
    "                         np.arange(y_min, y_max, h))\n",
    "    Z = clf.predict(np.c_[xx.ravel(), yy.ravel()])\n",
    "    Z = Z.reshape(xx.shape)\n",
    "\n",
    "    plt.figure(figsize=(10, 6))\n",
    "    plt.contourf(xx, yy, Z, cmap='coolwarm', alpha=0.3)\n",
    "    scatter = plt.scatter(X[:, 0], X[:, 1], c=y, cmap='coolwarm', edgecolors='k')\n",
    "    plt.title(\"Decision Boundary on UMAP Embeddings\")\n",
    "    plt.xlabel(\"UMAP-1\")\n",
    "    plt.ylabel(\"UMAP-2\")\n",
    "    plt.colorbar(scatter, label='Stance')\n",
    "    plt.show()\n",
    "\n",
    "    train_acc = clf.score(X_train, y_train)\n",
    "    test_acc = clf.score(X_test, y_test)\n",
    "    print(f\"Train Accuracy: {train_acc:.3f}\")\n",
    "    print(f\"Test Accuracy: {test_acc:.3f}\")"
   ]
  },
  {
   "cell_type": "code",
   "execution_count": 20,
   "id": "70ad2801",
   "metadata": {},
   "outputs": [
    {
     "name": "stderr",
     "output_type": "stream",
     "text": [
      "Epoch 1/10: 100%|██████████| 16/16 [00:49<00:00,  3.11s/it, loss=1.04] \n",
      "Epoch 2/10: 100%|██████████| 16/16 [00:49<00:00,  3.09s/it, loss=0.68] \n",
      "Epoch 3/10: 100%|██████████| 16/16 [00:48<00:00,  3.01s/it, loss=0.722]\n",
      "Epoch 4/10: 100%|██████████| 16/16 [00:48<00:00,  3.04s/it, loss=1.04] \n",
      "Epoch 5/10: 100%|██████████| 16/16 [00:48<00:00,  3.02s/it, loss=0.691]\n",
      "Epoch 6/10: 100%|██████████| 16/16 [00:48<00:00,  3.05s/it, loss=0.899]\n",
      "Epoch 7/10: 100%|██████████| 16/16 [00:48<00:00,  3.04s/it, loss=0.561]\n",
      "Epoch 8/10: 100%|██████████| 16/16 [00:48<00:00,  3.05s/it, loss=0.917]\n",
      "Epoch 9/10: 100%|██████████| 16/16 [00:48<00:00,  3.05s/it, loss=0.832]\n",
      "Epoch 10/10: 100%|██████████| 16/16 [00:48<00:00,  3.06s/it, loss=0.876]\n"
     ]
    }
   ],
   "source": [
    "# train\n",
    "losses = train_triplet(model, dataset, epochs=10, batch_size=16)"
   ]
  },
  {
   "cell_type": "code",
   "execution_count": 21,
   "id": "5de2c1b9",
   "metadata": {},
   "outputs": [
    {
     "data": {
      "image/png": "[encoded data removed]",
      "text/plain": [
       "<Figure size 640x480 with 1 Axes>"
      ]
     },
     "metadata": {},
     "output_type": "display_data"
    }
   ],
   "source": [
    "# plot training loss\n",
    "plot_loss(losses)"
   ]
  },
  {
   "cell_type": "code",
   "execution_count": 25,
   "id": "24088614",
   "metadata": {},
   "outputs": [
    {
     "ename": "AttributeError",
     "evalue": "module 'umap' has no attribute 'UMAP'",
     "output_type": "error",
     "traceback": [
      "\u001b[0;31m---------------------------------------------------------------------------\u001b[0m",
      "\u001b[0;31mAttributeError\u001b[0m                            Traceback (most recent call last)",
      "Cell \u001b[0;32mIn[25], line 2\u001b[0m\n\u001b[1;32m      1\u001b[0m \u001b[38;5;66;03m# embed + visualize\u001b[39;00m\n\u001b[0;32m----> 2\u001b[0m embeddings_2d, labels \u001b[38;5;241m=\u001b[39m \u001b[43mvisualize_embeddings\u001b[49m\u001b[43m(\u001b[49m\u001b[43mmodel\u001b[49m\u001b[43m,\u001b[49m\u001b[43m \u001b[49m\u001b[43mdf\u001b[49m\u001b[43m)\u001b[49m\n",
      "Cell \u001b[0;32mIn[21], line 10\u001b[0m, in \u001b[0;36mvisualize_embeddings\u001b[0;34m(model, df, n_samples)\u001b[0m\n\u001b[1;32m      7\u001b[0m input_ids, attention_mask \u001b[38;5;241m=\u001b[39m encode_text(texts, tokenizer, device)\n\u001b[1;32m      8\u001b[0m embeddings \u001b[38;5;241m=\u001b[39m model(input_ids, attention_mask)\u001b[38;5;241m.\u001b[39mdetach()\u001b[38;5;241m.\u001b[39mcpu()\u001b[38;5;241m.\u001b[39mnumpy()\n\u001b[0;32m---> 10\u001b[0m reducer \u001b[38;5;241m=\u001b[39m \u001b[43mumap\u001b[49m\u001b[38;5;241;43m.\u001b[39;49m\u001b[43mUMAP\u001b[49m()\n\u001b[1;32m     11\u001b[0m emb_2d \u001b[38;5;241m=\u001b[39m reducer\u001b[38;5;241m.\u001b[39mfit_transform(embeddings)\n\u001b[1;32m     13\u001b[0m plt\u001b[38;5;241m.\u001b[39mfigure(figsize\u001b[38;5;241m=\u001b[39m(\u001b[38;5;241m8\u001b[39m,\u001b[38;5;241m6\u001b[39m))\n",
      "\u001b[0;31mAttributeError\u001b[0m: module 'umap' has no attribute 'UMAP'"
     ]
    }
   ],
   "source": [
    "# embed + visualize\n",
    "embeddings_2d, labels = visualize_embeddings(model, df)"
   ]
  },
  {
   "cell_type": "code",
   "execution_count": 26,
   "id": "efef22b6",
   "metadata": {},
   "outputs": [
    {
     "ename": "NameError",
     "evalue": "name 'embeddings_2d' is not defined",
     "output_type": "error",
     "traceback": [
      "\u001b[0;31m---------------------------------------------------------------------------\u001b[0m",
      "\u001b[0;31mNameError\u001b[0m                                 Traceback (most recent call last)",
      "Cell \u001b[0;32mIn[26], line 2\u001b[0m\n\u001b[1;32m      1\u001b[0m \u001b[38;5;66;03m# plot decision boundary\u001b[39;00m\n\u001b[0;32m----> 2\u001b[0m plot_decision_boundary(\u001b[43membeddings_2d\u001b[49m, labels)\n",
      "\u001b[0;31mNameError\u001b[0m: name 'embeddings_2d' is not defined"
     ]
    }
   ],
   "source": [
    "# plot decision boundary\n",
    "plot_decision_boundary(embeddings_2d, labels)"
   ]
  },
  {
   "cell_type": "code",
   "execution_count": 22,
   "id": "92ec6aac",
   "metadata": {},
   "outputs": [
    {
     "name": "stderr",
     "output_type": "stream",
     "text": [
      "Encoding Final Embeddings: 100%|██████████| 16/16 [00:13<00:00,  1.18it/s]\n"
     ]
    }
   ],
   "source": [
    "# 1. batched final embedding extractor\n",
    "def get_embeddings_from_model(df, model, tokenizer, device, batch_size=16):\n",
    "    model.eval()\n",
    "    embeddings = []\n",
    "    texts = df['full_text'].tolist()\n",
    "\n",
    "    for i in tqdm(range(0, len(texts), batch_size), desc=\"Encoding Final Embeddings\"):\n",
    "        batch_texts = texts[i:i+batch_size]\n",
    "        input_ids, attention_mask = encode_text(batch_texts, tokenizer, device)\n",
    "        with torch.no_grad():\n",
    "            batch_emb = model(input_ids, attention_mask)\n",
    "        embeddings.append(batch_emb.cpu())\n",
    "\n",
    "    return torch.cat(embeddings, dim=0)\n",
    "\n",
    "# 2. run encoding\n",
    "final_embeddings = get_embeddings_from_model(df, model, tokenizer, device)\n",
    "\n",
    "# 3. attach to dataframe\n",
    "df['embedding'] = final_embeddings.numpy().tolist()\n",
    "\n",
    "# 4. (optional) save to CSV\n",
    "df.to_csv('articles_with_embeddings.csv', index=False)"
   ]
  },
  {
   "cell_type": "code",
   "execution_count": 23,
   "id": "6d61c72b",
   "metadata": {},
   "outputs": [
    {
     "data": {
      "text/html": [
       "<div>\n",
       "<style scoped>\n",
       "    .dataframe tbody tr th:only-of-type {\n",
       "        vertical-align: middle;\n",
       "    }\n",
       "\n",
       "    .dataframe tbody tr th {\n",
       "        vertical-align: top;\n",
       "    }\n",
       "\n",
       "    .dataframe thead th {\n",
       "        text-align: right;\n",
       "    }\n",
       "</style>\n",
       "<table border=\"1\" class=\"dataframe\">\n",
       "  <thead>\n",
       "    <tr style=\"text-align: right;\">\n",
       "      <th></th>\n",
       "      <th>date</th>\n",
       "      <th>title</th>\n",
       "      <th>url</th>\n",
       "      <th>publication</th>\n",
       "      <th>author</th>\n",
       "      <th>stance</th>\n",
       "      <th>topic_category</th>\n",
       "      <th>content</th>\n",
       "      <th>full_text</th>\n",
       "      <th>stance_encoded</th>\n",
       "      <th>embedding</th>\n",
       "    </tr>\n",
       "  </thead>\n",
       "  <tbody>\n",
       "    <tr>\n",
       "      <th>0</th>\n",
       "      <td>4/11/2025</td>\n",
       "      <td>Mapping Attacks on LGBTQ Rights in U.S. State ...</td>\n",
       "      <td>https://www.aclu.org/legislative-attacks-on-lg...</td>\n",
       "      <td>ACLU</td>\n",
       "      <td>None listed</td>\n",
       "      <td>Pro</td>\n",
       "      <td>1</td>\n",
       "      <td>No text content</td>\n",
       "      <td>Mapping Attacks on LGBTQ Rights in U.S. State ...</td>\n",
       "      <td>1</td>\n",
       "      <td>[0.5456031560897827, 0.2706182897090912, 0.048...</td>\n",
       "    </tr>\n",
       "    <tr>\n",
       "      <th>1</th>\n",
       "      <td>4/3/25</td>\n",
       "      <td>The Human Toll of Trump's Anti-Trans Crusade</td>\n",
       "      <td>https://www.aclu.org/news/lgbtq-rights/the-hum...</td>\n",
       "      <td>ACLU</td>\n",
       "      <td>Lisa Francois</td>\n",
       "      <td>Pro</td>\n",
       "      <td>2</td>\n",
       "      <td>President Donald Trump’s assault on transgende...</td>\n",
       "      <td>The Human Toll of Trump's Anti-Trans Crusade P...</td>\n",
       "      <td>1</td>\n",
       "      <td>[0.4251714050769806, 0.39493420720100403, -0.1...</td>\n",
       "    </tr>\n",
       "    <tr>\n",
       "      <th>2</th>\n",
       "      <td>4/3/25</td>\n",
       "      <td>Perkins et al. v. State (HB 121)</td>\n",
       "      <td>https://www.aclu.org/cases/perkins-et-al-v-state</td>\n",
       "      <td>ACLU</td>\n",
       "      <td>None listed</td>\n",
       "      <td>Pro</td>\n",
       "      <td>3</td>\n",
       "      <td>HB 121, which took effect on March 27, 2025, i...</td>\n",
       "      <td>Perkins et al. v. State (HB 121) HB 121, which...</td>\n",
       "      <td>1</td>\n",
       "      <td>[0.4237897992134094, 0.3935093879699707, -0.30...</td>\n",
       "    </tr>\n",
       "    <tr>\n",
       "      <th>3</th>\n",
       "      <td>2/11/2025</td>\n",
       "      <td>Montana Senate endorses bill tying bathrooms t...</td>\n",
       "      <td>https://www.kpax.com/news/montana-senate-endor...</td>\n",
       "      <td>KPAX (local news)</td>\n",
       "      <td>Jonathon Ambarian</td>\n",
       "      <td>Anti</td>\n",
       "      <td>3, 10, 14, 17</td>\n",
       "      <td>A bill that would require transgender people i...</td>\n",
       "      <td>Montana Senate endorses bill tying bathrooms t...</td>\n",
       "      <td>0</td>\n",
       "      <td>[0.3479016125202179, 0.41807496547698975, -0.2...</td>\n",
       "    </tr>\n",
       "    <tr>\n",
       "      <th>4</th>\n",
       "      <td>3/26/25</td>\n",
       "      <td>Library Patrons Sue Greenville County Over Wid...</td>\n",
       "      <td>https://www.aclu.org/press-releases/library-pa...</td>\n",
       "      <td>ACLU</td>\n",
       "      <td>None listed</td>\n",
       "      <td>Pro</td>\n",
       "      <td>4</td>\n",
       "      <td>GREENVILLE, S.C. – Local library patrons, with...</td>\n",
       "      <td>Library Patrons Sue Greenville County Over Wid...</td>\n",
       "      <td>1</td>\n",
       "      <td>[0.42164069414138794, 0.40182527899742126, -0....</td>\n",
       "    </tr>\n",
       "    <tr>\n",
       "      <th>...</th>\n",
       "      <td>...</td>\n",
       "      <td>...</td>\n",
       "      <td>...</td>\n",
       "      <td>...</td>\n",
       "      <td>...</td>\n",
       "      <td>...</td>\n",
       "      <td>...</td>\n",
       "      <td>...</td>\n",
       "      <td>...</td>\n",
       "      <td>...</td>\n",
       "      <td>...</td>\n",
       "    </tr>\n",
       "    <tr>\n",
       "      <th>239</th>\n",
       "      <td>3/17/2025</td>\n",
       "      <td>Democrats’ Civil War Over Transgenderism Heats...</td>\n",
       "      <td>https://spectator.org/democrats-civil-war-over...</td>\n",
       "      <td>The American Spectator</td>\n",
       "      <td>Ellie Gardey Holmes</td>\n",
       "      <td>Anti</td>\n",
       "      <td>8, 10, 17</td>\n",
       "      <td>One by one, Democrats are deciding that the ji...</td>\n",
       "      <td>Democrats’ Civil War Over Transgenderism Heats...</td>\n",
       "      <td>0</td>\n",
       "      <td>[0.45627859234809875, 0.40254124999046326, -0....</td>\n",
       "    </tr>\n",
       "    <tr>\n",
       "      <th>240</th>\n",
       "      <td>3/12/2025</td>\n",
       "      <td>Detrans Awareness Day Comes With a Warning</td>\n",
       "      <td>https://spectator.org/detrans-awareness-day-co...</td>\n",
       "      <td>The American Spectator</td>\n",
       "      <td>Debra J. Saunders</td>\n",
       "      <td>Anti</td>\n",
       "      <td>2, 5, 7, 17</td>\n",
       "      <td>WASHINGTON — “I realized I am a guinea pig,” F...</td>\n",
       "      <td>Detrans Awareness Day Comes With a Warning  WA...</td>\n",
       "      <td>0</td>\n",
       "      <td>[0.4650435745716095, 0.402255117893219, -0.068...</td>\n",
       "    </tr>\n",
       "    <tr>\n",
       "      <th>241</th>\n",
       "      <td>2/4/2025</td>\n",
       "      <td>3 Major New Developments in Trump’s Battle Aga...</td>\n",
       "      <td>https://spectator.org/3-new-dev-trump-battle-a...</td>\n",
       "      <td>The American Spectator</td>\n",
       "      <td>Robert Gagnon</td>\n",
       "      <td>Anti</td>\n",
       "      <td>2, 5, 10, 17</td>\n",
       "      <td>Trump’s turnaround of U.S. policy on the scour...</td>\n",
       "      <td>3 Major New Developments in Trump’s Battle Aga...</td>\n",
       "      <td>0</td>\n",
       "      <td>[0.4369094669818878, 0.3308541178703308, -0.11...</td>\n",
       "    </tr>\n",
       "    <tr>\n",
       "      <th>242</th>\n",
       "      <td>1/22/2025</td>\n",
       "      <td>Trump’s Executive Order Ends ‘Trans’ Tyranny a...</td>\n",
       "      <td>https://spectator.org/trump-executive-order-en...</td>\n",
       "      <td>The American Spectator</td>\n",
       "      <td>Robert Gagnon</td>\n",
       "      <td>Anti</td>\n",
       "      <td>2, 5, 10, 17</td>\n",
       "      <td>Thanks to Donald Trump’s new executive order, ...</td>\n",
       "      <td>Trump’s Executive Order Ends ‘Trans’ Tyranny a...</td>\n",
       "      <td>0</td>\n",
       "      <td>[0.4488812983036041, 0.40114641189575195, -0.1...</td>\n",
       "    </tr>\n",
       "    <tr>\n",
       "      <th>243</th>\n",
       "      <td>10/19/2024</td>\n",
       "      <td>Judge Raps PA School District for Trans Instru...</td>\n",
       "      <td>https://spectator.org/judge-raps-pa-school-dis...</td>\n",
       "      <td>The American Spectator</td>\n",
       "      <td>Thomas O'Boyle</td>\n",
       "      <td>Anti</td>\n",
       "      <td>2, 3, 15, 17</td>\n",
       "      <td>Mt. Lebanon, Pa., is a leafy suburb south of P...</td>\n",
       "      <td>Judge Raps PA School District for Trans Instru...</td>\n",
       "      <td>0</td>\n",
       "      <td>[0.40389931201934814, 0.40607696771621704, -0....</td>\n",
       "    </tr>\n",
       "  </tbody>\n",
       "</table>\n",
       "<p>244 rows × 11 columns</p>\n",
       "</div>"
      ],
      "text/plain": [
       "           date                                              title  \\\n",
       "0     4/11/2025  Mapping Attacks on LGBTQ Rights in U.S. State ...   \n",
       "1        4/3/25       The Human Toll of Trump's Anti-Trans Crusade   \n",
       "2        4/3/25                   Perkins et al. v. State (HB 121)   \n",
       "3     2/11/2025  Montana Senate endorses bill tying bathrooms t...   \n",
       "4       3/26/25  Library Patrons Sue Greenville County Over Wid...   \n",
       "..          ...                                                ...   \n",
       "239   3/17/2025  Democrats’ Civil War Over Transgenderism Heats...   \n",
       "240   3/12/2025        Detrans Awareness Day Comes With a Warning    \n",
       "241    2/4/2025  3 Major New Developments in Trump’s Battle Aga...   \n",
       "242   1/22/2025  Trump’s Executive Order Ends ‘Trans’ Tyranny a...   \n",
       "243  10/19/2024  Judge Raps PA School District for Trans Instru...   \n",
       "\n",
       "                                                   url  \\\n",
       "0    https://www.aclu.org/legislative-attacks-on-lg...   \n",
       "1    https://www.aclu.org/news/lgbtq-rights/the-hum...   \n",
       "2     https://www.aclu.org/cases/perkins-et-al-v-state   \n",
       "3    https://www.kpax.com/news/montana-senate-endor...   \n",
       "4    https://www.aclu.org/press-releases/library-pa...   \n",
       "..                                                 ...   \n",
       "239  https://spectator.org/democrats-civil-war-over...   \n",
       "240  https://spectator.org/detrans-awareness-day-co...   \n",
       "241  https://spectator.org/3-new-dev-trump-battle-a...   \n",
       "242  https://spectator.org/trump-executive-order-en...   \n",
       "243  https://spectator.org/judge-raps-pa-school-dis...   \n",
       "\n",
       "                publication               author stance topic_category  \\\n",
       "0                      ACLU          None listed    Pro              1   \n",
       "1                      ACLU        Lisa Francois    Pro              2   \n",
       "2                      ACLU          None listed    Pro              3   \n",
       "3         KPAX (local news)    Jonathon Ambarian   Anti  3, 10, 14, 17   \n",
       "4                      ACLU          None listed    Pro              4   \n",
       "..                      ...                  ...    ...            ...   \n",
       "239  The American Spectator  Ellie Gardey Holmes   Anti      8, 10, 17   \n",
       "240  The American Spectator    Debra J. Saunders   Anti    2, 5, 7, 17   \n",
       "241  The American Spectator        Robert Gagnon   Anti   2, 5, 10, 17   \n",
       "242  The American Spectator        Robert Gagnon   Anti   2, 5, 10, 17   \n",
       "243  The American Spectator       Thomas O'Boyle   Anti   2, 3, 15, 17   \n",
       "\n",
       "                                               content  \\\n",
       "0                                      No text content   \n",
       "1    President Donald Trump’s assault on transgende...   \n",
       "2    HB 121, which took effect on March 27, 2025, i...   \n",
       "3    A bill that would require transgender people i...   \n",
       "4    GREENVILLE, S.C. – Local library patrons, with...   \n",
       "..                                                 ...   \n",
       "239  One by one, Democrats are deciding that the ji...   \n",
       "240  WASHINGTON — “I realized I am a guinea pig,” F...   \n",
       "241  Trump’s turnaround of U.S. policy on the scour...   \n",
       "242  Thanks to Donald Trump’s new executive order, ...   \n",
       "243  Mt. Lebanon, Pa., is a leafy suburb south of P...   \n",
       "\n",
       "                                             full_text  stance_encoded  \\\n",
       "0    Mapping Attacks on LGBTQ Rights in U.S. State ...               1   \n",
       "1    The Human Toll of Trump's Anti-Trans Crusade P...               1   \n",
       "2    Perkins et al. v. State (HB 121) HB 121, which...               1   \n",
       "3    Montana Senate endorses bill tying bathrooms t...               0   \n",
       "4    Library Patrons Sue Greenville County Over Wid...               1   \n",
       "..                                                 ...             ...   \n",
       "239  Democrats’ Civil War Over Transgenderism Heats...               0   \n",
       "240  Detrans Awareness Day Comes With a Warning  WA...               0   \n",
       "241  3 Major New Developments in Trump’s Battle Aga...               0   \n",
       "242  Trump’s Executive Order Ends ‘Trans’ Tyranny a...               0   \n",
       "243  Judge Raps PA School District for Trans Instru...               0   \n",
       "\n",
       "                                             embedding  \n",
       "0    [0.5456031560897827, 0.2706182897090912, 0.048...  \n",
       "1    [0.4251714050769806, 0.39493420720100403, -0.1...  \n",
       "2    [0.4237897992134094, 0.3935093879699707, -0.30...  \n",
       "3    [0.3479016125202179, 0.41807496547698975, -0.2...  \n",
       "4    [0.42164069414138794, 0.40182527899742126, -0....  \n",
       "..                                                 ...  \n",
       "239  [0.45627859234809875, 0.40254124999046326, -0....  \n",
       "240  [0.4650435745716095, 0.402255117893219, -0.068...  \n",
       "241  [0.4369094669818878, 0.3308541178703308, -0.11...  \n",
       "242  [0.4488812983036041, 0.40114641189575195, -0.1...  \n",
       "243  [0.40389931201934814, 0.40607696771621704, -0....  \n",
       "\n",
       "[244 rows x 11 columns]"
      ]
     },
     "execution_count": 23,
     "metadata": {},
     "output_type": "execute_result"
    }
   ],
   "source": [
    "df"
   ]
  },
  {
   "cell_type": "code",
   "execution_count": 25,
   "id": "1836fb55",
   "metadata": {},
   "outputs": [
    {
     "name": "stdout",
     "output_type": "stream",
     "text": [
      "✅ Classifier trained.\n"
     ]
    },
    {
     "name": "stderr",
     "output_type": "stream",
     "text": [
      "Encoding Incoming News: 100%|██████████| 1/1 [00:00<00:00,  4.37it/s]"
     ]
    },
    {
     "name": "stdout",
     "output_type": "stream",
     "text": [
      "Title: Florida proposes new anti-LGBTQ+ legislation\n",
      "Predicted Stance: anti\n",
      "\n",
      "Title: Victory for trans rights advocates in California\n",
      "Predicted Stance: anti\n",
      "\n"
     ]
    },
    {
     "name": "stderr",
     "output_type": "stream",
     "text": [
      "\n"
     ]
    }
   ],
   "source": [
    "# 1. train classifier on your stored embeddings\n",
    "from sklearn.linear_model import LogisticRegression\n",
    "\n",
    "X = np.array(df['embedding'].tolist())\n",
    "y = df['stance_encoded'].values\n",
    "\n",
    "clf = LogisticRegression(max_iter=1000)\n",
    "clf.fit(X, y)\n",
    "\n",
    "print(\"✅ Classifier trained.\")\n",
    "\n",
    "# 2. define function to classify new articles\n",
    "def classify_new_news_articles(titles, texts, model, tokenizer, classifier, device, batch_size=16):\n",
    "    model.eval()\n",
    "    embeddings = []\n",
    "    \n",
    "    full_texts = [(t or '') + ' ' + (c or '') for t, c in zip(titles, texts)]\n",
    "\n",
    "    for i in tqdm(range(0, len(full_texts), batch_size), desc=\"Encoding Incoming News\"):\n",
    "        batch_texts = full_texts[i:i+batch_size]\n",
    "        input_ids, attention_mask = encode_text(batch_texts, tokenizer, device)\n",
    "        with torch.no_grad():\n",
    "            batch_emb = model(input_ids, attention_mask)\n",
    "        embeddings.append(batch_emb.cpu())\n",
    "\n",
    "    all_embeddings = torch.cat(embeddings, dim=0).numpy()\n",
    "    preds = classifier.predict(all_embeddings)\n",
    "    return le.inverse_transform(preds)\n",
    "\n",
    "# 3. example new articles\n",
    "new_titles = [\n",
    "    \"Florida proposes new anti-LGBTQ+ legislation\",\n",
    "    \"Victory for trans rights advocates in California\",\n",
    "]\n",
    "\n",
    "new_texts = [\n",
    "    \"Florida lawmakers have introduced a new bill that...\",\n",
    "    \"In a historic ruling today, California courts sided with...\",\n",
    "]\n",
    "\n",
    "# 4. classify them\n",
    "predicted_stances = classify_new_news_articles(new_titles, new_texts, model, tokenizer, clf, device)\n",
    "\n",
    "# 5. print results\n",
    "for title, stance in zip(new_titles, predicted_stances):\n",
    "    print(f\"Title: {title}\")\n",
    "    print(f\"Predicted Stance: {stance}\\n\")"
   ]
  },
  {
   "cell_type": "code",
   "execution_count": 26,
   "id": "9f587ac2",
   "metadata": {},
   "outputs": [
    {
     "data": {
      "text/plain": [
       "['classifier.joblib']"
      ]
     },
     "execution_count": 26,
     "metadata": {},
     "output_type": "execute_result"
    }
   ],
   "source": [
    "import joblib\n",
    "\n",
    "# Save the classifier\n",
    "joblib.dump(clf, \"classifier.joblib\")"
   ]
  },
  {
   "cell_type": "code",
   "execution_count": 27,
   "id": "d0569043",
   "metadata": {},
   "outputs": [],
   "source": [
    "def classify_new_news_articles(titles, texts, model, tokenizer, classifier, device, batch_size=16):\n",
    "    model.eval()\n",
    "    embeddings = []\n",
    "    \n",
    "    # batch the incoming news\n",
    "    full_texts = [(t or '') + ' ' + (c or '') for t, c in zip(titles, texts)]\n",
    "\n",
    "    for i in tqdm(range(0, len(full_texts), batch_size), desc=\"Encoding Incoming News\"):\n",
    "        batch_texts = full_texts[i:i+batch_size]\n",
    "        input_ids, attention_mask = encode_text(batch_texts, tokenizer, device)\n",
    "        with torch.no_grad():\n",
    "            batch_emb = model(input_ids, attention_mask)\n",
    "        embeddings.append(batch_emb.cpu())\n",
    "\n",
    "    all_embeddings = torch.cat(embeddings, dim=0).numpy()\n",
    "\n",
    "    # predict using your classifier\n",
    "    preds = classifier.predict(all_embeddings)\n",
    "\n",
    "    # return as list of labels\n",
    "    return le.inverse_transform(preds)"
   ]
  },
  {
   "cell_type": "code",
   "execution_count": 31,
   "id": "5a750005",
   "metadata": {},
   "outputs": [
    {
     "ename": "NameError",
     "evalue": "name 'embed_new_article' is not defined",
     "output_type": "error",
     "traceback": [
      "\u001b[0;31m---------------------------------------------------------------------------\u001b[0m",
      "\u001b[0;31mNameError\u001b[0m                                 Traceback (most recent call last)",
      "Cell \u001b[0;32mIn[31], line 6\u001b[0m\n\u001b[1;32m      3\u001b[0m text \u001b[38;5;241m=\u001b[39m \u001b[38;5;124m\"\u001b[39m\u001b[38;5;124mIn a historic ruling today, California courts sided with...\u001b[39m\u001b[38;5;124m\"\u001b[39m\n\u001b[1;32m      5\u001b[0m \u001b[38;5;66;03m# embed it\u001b[39;00m\n\u001b[0;32m----> 6\u001b[0m embedding \u001b[38;5;241m=\u001b[39m \u001b[43membed_new_article\u001b[49m(title, text, model, tokenizer, device)\n",
      "\u001b[0;31mNameError\u001b[0m: name 'embed_new_article' is not defined"
     ]
    }
   ],
   "source": [
    "# example new article\n",
    "title = \"Victory for trans rights advocates in California\"\n",
    "text = \"In a historic ruling today, California courts sided with...\"\n",
    "\n",
    "# embed it\n",
    "embedding = embed_new_article(title, text, model, tokenizer, device)"
   ]
  },
  {
   "cell_type": "code",
   "execution_count": null,
   "id": "47064815",
   "metadata": {},
   "outputs": [],
   "source": []
  }
 ],
 "metadata": {
  "kernelspec": {
   "display_name": "mlops",
   "language": "python",
   "name": "python3"
  },
  "language_info": {
   "codemirror_mode": {
    "name": "ipython",
    "version": 3
   },
   "file_extension": ".py",
   "mimetype": "text/x-python",
   "name": "python",
   "nbconvert_exporter": "python",
   "pygments_lexer": "ipython3",
   "version": "3.12.9"
  }
 },
 "nbformat": 4,
 "nbformat_minor": 5
}
